{
 "cells": [
  {
   "cell_type": "code",
   "execution_count": null,
   "metadata": {},
   "outputs": [],
   "source": [
    "!pip install numpy"
   ]
  },
  {
   "cell_type": "code",
   "execution_count": null,
   "metadata": {},
   "outputs": [],
   "source": [
    "!pip install pandas"
   ]
  },
  {
   "cell_type": "code",
   "execution_count": null,
   "metadata": {},
   "outputs": [],
   "source": [
    "!pip install matplotlib"
   ]
  },
  {
   "cell_type": "code",
   "execution_count": null,
   "metadata": {},
   "outputs": [],
   "source": [
    "!pip install scipy"
   ]
  },
  {
   "cell_type": "code",
   "execution_count": null,
   "metadata": {
    "colab": {
     "base_uri": "https://localhost:8080/",
     "height": 766
    },
    "id": "iUtrFCMa6CFM",
    "outputId": "cd6ccdea-384a-401f-c57d-ccb60cc586ee"
   },
   "outputs": [],
   "source": [
    "%matplotlib inline\n",
    "import numpy as np\n",
    "import pandas as pd\n",
    "import matplotlib.pyplot as plt\n",
    "import scipy.stats as sp\n",
    "plt.rcParams['figure.figsize'] = (20.0, 10.0)\n",
    "\n",
    "# Reading data\n",
    "# intialise data of lists.\n",
    "df = {'X':[4,4,5,5,7,7,8,9,10,11,12],\n",
    "      'Y':[6300,5800,5700,4500,4500,4200,4100,3100,2100,2500,2200]}\n",
    " \n",
    "# Create DataFrame\n",
    "data = pd.DataFrame(df)\n",
    "data = data.groupby('X', as_index=False).mean()\n",
    "print (data.head(9))\n",
    "#data.head\n",
    "# Collecting X and Y\n",
    "X = data['X'].values\n",
    "Y = data['Y'].values\n",
    "plt.plot(X,Y,marker='o', ls='--')\n",
    "# data['Y'].dropna().plot()"
   ]
  },
  {
   "cell_type": "code",
   "execution_count": null,
   "metadata": {
    "colab": {
     "base_uri": "https://localhost:8080/"
    },
    "id": "2H3McS9u6UQY",
    "outputId": "3010e073-583f-46e0-cdfb-c4523653f3dc"
   },
   "outputs": [],
   "source": [
    "y=np.array(data['Y'], dtype=float)\n",
    "x=np.array(data['X'], dtype=float)\n",
    "slope, intercept, r_value, p_value, std_err =sp.linregress(x,y)\n",
    "xf = np.linspace(min(x),max(x),100)\n",
    "# xf1 = xf.copy()\n",
    "# xf1 = pd.to_datetime(xf1)\n",
    "yf = (slope*xf)+intercept\n",
    "print(\"slope=\",slope,\"\\n\",\"intercept=\",intercept,\"\\n\",'r = ', r_value**2, '\\n', 'p = ', p_value, '\\n', 's = ', std_err)\n",
    "print(f\"\\nequation of line: y={slope:.2f}x+{intercept:.2f}\")"
   ]
  },
  {
   "cell_type": "code",
   "execution_count": null,
   "metadata": {
    "colab": {
     "base_uri": "https://localhost:8080/",
     "height": 713
    },
    "id": "hCTA1WUZ6WQu",
    "outputId": "3ff64a39-1690-458d-fe0b-9f261eaa45ce"
   },
   "outputs": [],
   "source": [
    "data[\"expected\"]=data[\"X\"]*slope+intercept\n",
    "print(data.head())\n",
    "plt.rcParams['figure.figsize'] = (20.0, 10.0)\n",
    "f, ax = plt.subplots(1, 1)\n",
    "ax.plot(xf, yf,label='Linear fit', lw=3)\n",
    "ax.plot(X,Y,label=\"actual value\",marker='o', ls='--')\n",
    "plt.ylabel('')\n",
    "ax.legend()"
   ]
  },
  {
   "cell_type": "code",
   "execution_count": null,
   "metadata": {
    "colab": {
     "base_uri": "https://localhost:8080/"
    },
    "id": "7-wFG1xB6YRh",
    "outputId": "e3a1475a-81fa-414a-84e4-1aad0ea7c005"
   },
   "outputs": [],
   "source": [
    "from scipy.stats import t\n",
    "tinv = lambda p, df: abs(t.ppf(p/2, df))\n",
    "pred = lambda x: slope*x+intercept\n",
    "ts = tinv(0.05, len(X)-2)\n",
    "print(f\"slope (95%): {slope:.6f} +/- {ts*std_err:.6f}\")\n",
    "print(f\"intercept (95%): {intercept:.6f}\"f\" +/- {ts*std_err:.6f}\")\n",
    "\n",
    "print(\"value of y at x=5.5 years =\",pred(5.5))"
   ]
  }
 ],
 "metadata": {
  "colab": {
   "collapsed_sections": [],
   "name": "8953-Linear Regression Algorithm.ipynb",
   "provenance": []
  },
  "kernelspec": {
   "display_name": "Python 3 (ipykernel)",
   "language": "python",
   "name": "python3"
  },
  "language_info": {
   "codemirror_mode": {
    "name": "ipython",
    "version": 3
   },
   "file_extension": ".py",
   "mimetype": "text/x-python",
   "name": "python",
   "nbconvert_exporter": "python",
   "pygments_lexer": "ipython3",
   "version": "3.8.11"
  }
 },
 "nbformat": 4,
 "nbformat_minor": 1
}
